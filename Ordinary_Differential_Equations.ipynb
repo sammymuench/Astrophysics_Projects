{
 "cells": [
  {
   "cell_type": "code",
   "execution_count": 1,
   "id": "c6fc6f16",
   "metadata": {},
   "outputs": [],
   "source": [
    "import numpy as np\n",
    "from matplotlib import pyplot as plt\n",
    "import math\n",
    "from scipy.integrate import solve_ivp\n",
    "from scipy.integrate import odeint\n",
    "from datetime import datetime\n",
    "from astropy.time import Time\n",
    "from astroquery.jplhorizons import Horizons\n",
    "from astropy.table import Table\n",
    "import pandas as pd\n",
    "\n",
    "np.set_printoptions(precision=4)"
   ]
  },
  {
   "cell_type": "code",
   "execution_count": 2,
   "id": "a7f72d94",
   "metadata": {},
   "outputs": [
    {
     "data": {
      "image/png": "[encoded data removed]",
      "text/plain": [
       "<Figure size 576x288 with 2 Axes>"
      ]
     },
     "metadata": {
      "needs_background": "light"
     },
     "output_type": "display_data"
    }
   ],
   "source": [
    "# Example: Falling meteorite, forward Euler method only\n",
    "\n",
    "# d^2y/dt^2 = -g + (b/m)*dy/dt\n",
    "# exact solution: y = y0 + g*(m/b)^2 *(1-np.exp(-b*t/m)) - (m*g/b)*t\n",
    "\n",
    "\n",
    "def f(v,m,g,b):  # d^2/dt^2\n",
    "    return -g + b*v/m\n",
    "\n",
    "g = 9.8\n",
    "m = 100\n",
    "b = 0.01\n",
    "y0 = 8.5e3\n",
    "v0 = 0\n",
    "\n",
    "dt = 0.5 # Step size\n",
    "nsteps = 100\n",
    "t = np.linspace(0,nsteps * dt,nsteps + 1)\n",
    "\n",
    "y = np.zeros(nsteps+1)\n",
    "v = np.zeros(nsteps+1)\n",
    "y[0] = y0\n",
    "v[0] = v0\n",
    "\n",
    "# forward Euler\n",
    "for i in range(nsteps):\n",
    "    y[i + 1] = y[i] + dt*v[i]\n",
    "    v[i + 1] = v[i] + dt*f(v[i],m,g,b)\n",
    "\n",
    "#exact solution\n",
    "yExact = y0 + g*(m/b)**2 * (1-np.exp(-b*t/m)) - (m*g/b)*t\n",
    "\n",
    "fig,ax = plt.subplots(1,2,figsize = (8, 4))\n",
    "ax[0].plot(t, y, 'g-o', label='forward Euler')\n",
    "ax[0].plot(t, yExact, 'k-', label='yExact')\n",
    "ax[0].set_ylabel('Y')\n",
    "ax[0].legend()\n",
    "\n",
    "ax[1].plot(t, y - yExact, 'g', label='forward Euler')\n",
    "ax[1].set_ylabel('Error')\n",
    "ax[1].legend()\n",
    "\n",
    "fig.tight_layout()"
   ]
  },
  {
   "cell_type": "markdown",
   "id": "baeb8303",
   "metadata": {},
   "source": [
    "### Problem 1.  \n",
    "As show in class, the equation of motion for the damped pendulum is:  \n",
    "\n",
    "$m\\ddot{x} + d\\dot{x} + kx = 0$   \n",
    "$\\Rightarrow dv/dt = -(d/m)v - (k/m)x$  \n",
    "\n",
    "Solve the equation, i.e., calculate $x(t)$, using forward Euler and symplectic Euler.  Make 2 plots side by side:  \n",
    "\n",
    "Left plot: x(t) vs. t, from both Euler methods AND exact solution (3 curves total). Turn grid on.  \n",
    "Right plot: x(t) - xExact vs. t, for both Euler methods (2 curves).  Turn grid on. \n",
    "\n",
    "I have started the code below for you, with the appropriate constants and initial conditions."
   ]
  },
  {
   "cell_type": "code",
   "execution_count": 3,
   "id": "a1d1d845",
   "metadata": {
    "scrolled": true
   },
   "outputs": [
    {
     "ename": "NameError",
     "evalue": "name 'gamma' is not defined",
     "output_type": "error",
     "traceback": [
      "\u001b[1;31m---------------------------------------------------------------------------\u001b[0m",
      "\u001b[1;31mNameError\u001b[0m                                 Traceback (most recent call last)",
      "Input \u001b[1;32mIn [3]\u001b[0m, in \u001b[0;36m<cell line: 34>\u001b[1;34m()\u001b[0m\n\u001b[0;32m     31\u001b[0m     xSymp[i \u001b[38;5;241m+\u001b[39m \u001b[38;5;241m1\u001b[39m] \u001b[38;5;241m=\u001b[39m xSymp[i] \u001b[38;5;241m+\u001b[39m dt\u001b[38;5;241m*\u001b[39mvSymp[i \u001b[38;5;241m+\u001b[39m \u001b[38;5;241m1\u001b[39m]\n\u001b[0;32m     33\u001b[0m \u001b[38;5;66;03m#exact solution\u001b[39;00m\n\u001b[1;32m---> 34\u001b[0m xExact \u001b[38;5;241m=\u001b[39m x0 \u001b[38;5;241m*\u001b[39m np\u001b[38;5;241m.\u001b[39mexp(\u001b[38;5;241m-\u001b[39m\u001b[43mgamma\u001b[49m \u001b[38;5;241m*\u001b[39m t) \u001b[38;5;241m*\u001b[39m (np\u001b[38;5;241m.\u001b[39mcos(omega \u001b[38;5;241m*\u001b[39m t) \u001b[38;5;241m+\u001b[39m (gamma\u001b[38;5;241m/\u001b[39momega) \u001b[38;5;241m*\u001b[39m np\u001b[38;5;241m.\u001b[39msin(omega \u001b[38;5;241m*\u001b[39m t))\n\u001b[0;32m     35\u001b[0m fig,ax \u001b[38;5;241m=\u001b[39m plt\u001b[38;5;241m.\u001b[39msubplots(\u001b[38;5;241m1\u001b[39m,\u001b[38;5;241m2\u001b[39m,figsize \u001b[38;5;241m=\u001b[39m (\u001b[38;5;241m8\u001b[39m, \u001b[38;5;241m4\u001b[39m))\n\u001b[0;32m     37\u001b[0m ax[\u001b[38;5;241m0\u001b[39m]\u001b[38;5;241m.\u001b[39mplot(t, x, \u001b[38;5;124m'\u001b[39m\u001b[38;5;124mg-o\u001b[39m\u001b[38;5;124m'\u001b[39m, label\u001b[38;5;241m=\u001b[39m\u001b[38;5;124m'\u001b[39m\u001b[38;5;124mforward Euler\u001b[39m\u001b[38;5;124m'\u001b[39m)\n",
      "\u001b[1;31mNameError\u001b[0m: name 'gamma' is not defined"
     ]
    }
   ],
   "source": [
    "def dvdt(d, m, v, k, x):\n",
    "    return (-d * v / m ) + (-k / m) * x\n",
    "\n",
    "m = 1.\n",
    "d = 0.05\n",
    "k = 0.5\n",
    "x0 = 10\n",
    "v0 = 0\n",
    "\n",
    "dt = 0.05 # Step size\n",
    "nsteps = 1000\n",
    "t = np.linspace(0,nsteps * dt,nsteps + 1)\n",
    "\n",
    "x = np.zeros(nsteps+1)\n",
    "v = np.zeros(nsteps+1)\n",
    "x[0] = x0\n",
    "v[0] = v0\n",
    "\n",
    "xSymp = np.zeros(nsteps+1)\n",
    "vSymp = np.zeros(nsteps+1)\n",
    "xSymp[0] = x0\n",
    "vSymp[0] = v0\n",
    "\n",
    "# forward Euler\n",
    "for i in range(nsteps):\n",
    "    x[i + 1] = x[i] + dt*v[i]\n",
    "    v[i + 1] = v[i] + dt*dvdt(d, m, v[i], k, x[i])\n",
    "    \n",
    "for i in range(nsteps):\n",
    "    vSymp[i + 1] = vSymp[i] + dt*dvdt(d, m, vSymp[i], k, xSymp[i])\n",
    "    xSymp[i + 1] = xSymp[i] + dt*vSymp[i + 1]\n",
    "\n",
    "#exact solution\n",
    "xExact = x0 * np.exp(-gamma * t) * (np.cos(omega * t) + (gamma/omega) * np.sin(omega * t))\n",
    "fig,ax = plt.subplots(1,2,figsize = (8, 4))\n",
    "\n",
    "ax[0].plot(t, x, 'g-o', label='forward Euler')\n",
    "ax[0].plot(t, xSymp, 'b-o', label='symp Euler')\n",
    "ax[0].plot(t, xExact, 'k-', label='yExact')\n",
    "ax[0].set_ylabel('Y')\n",
    "ax[0].legend()\n",
    "\n",
    "ax[1].plot(t, x - xExact, 'g', label='forward Euler')\n",
    "ax[1].plot(t, xSymp - xExact, 'b', label='symp Euler')\n",
    "ax[1].set_ylabel('Error')\n",
    "ax[1].legend()\n",
    "\n",
    "fig.tight_layout()"
   ]
  },
  {
   "cell_type": "markdown",
   "id": "9974b9de",
   "metadata": {},
   "source": [
    "### Problem 2.  \n",
    "\n",
    "Solve the damped pendulum problem again, this time solution from RK2 midpoint and RK4 (using the code I started in class). Make 2 plots side by side:  \n",
    "\n",
    "Left plot: $x(t)$ vs. $t$, from forward Euler, symplectic Euler, RK2, RK4, and exact solution (5 curves total).  Turn grid on.  \n",
    "Right plot: $x(t) - xExact$ vs. $t$, for all 4 numerical methods (4 curves total).  Turn grid on.\n",
    "\n",
    "Use the same $m, d$, and $k$ constants and initial conditions.\n",
    "\n",
    "If you wish, you can write a function for each method and make the plots that way."
   ]
  },
  {
   "cell_type": "code",
   "execution_count": null,
   "id": "7ccef153",
   "metadata": {},
   "outputs": [],
   "source": []
  },
  {
   "cell_type": "markdown",
   "id": "532cb464",
   "metadata": {},
   "source": [
    "### Problem 3.  Using scipy\n",
    "Solve the damped pendulum problem again, this time using scipy's $solve$_$ivp$ and $odeint$. Make 2 plots side by side:  \n",
    "\n",
    "Left plot: $x(t)$ vs. $t$, from $solve$_$ivp$, $odeint$, and exact solution (3 curves total).  Turn grid on.  \n",
    "Right plot: $x(t)$ - $xExact$ vs. $t$, for the numerical methods (2 curves total).  Turn grid on.\n"
   ]
  },
  {
   "cell_type": "code",
   "execution_count": null,
   "id": "9cbf172d",
   "metadata": {},
   "outputs": [],
   "source": [
    "xIVP "
   ]
  }
 ],
 "metadata": {
  "kernelspec": {
   "display_name": "Python 3 (ipykernel)",
   "language": "python",
   "name": "python3"
  },
  "language_info": {
   "codemirror_mode": {
    "name": "ipython",
    "version": 3
   },
   "file_extension": ".py",
   "mimetype": "text/x-python",
   "name": "python",
   "nbconvert_exporter": "python",
   "pygments_lexer": "ipython3",
   "version": "3.9.12"
  }
 },
 "nbformat": 4,
 "nbformat_minor": 5
}
